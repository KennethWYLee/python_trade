{
 "cells": [
  {
   "cell_type": "code",
   "execution_count": 1,
   "metadata": {},
   "outputs": [],
   "source": [
    "import openpyxl\n",
    "import pandas as pd\n",
    "import os\n",
    "import datetime\n",
    "#from IPython.display import display"
   ]
  },
  {
   "cell_type": "code",
   "execution_count": 2,
   "metadata": {},
   "outputs": [],
   "source": [
    "def print_full(x):\n",
    "    df = pd.DataFrame(x)\n",
    "    pd.set_option('display.max_rows', 2000)\n",
    "    pd.set_option('display.max_columns', 20)\n",
    "    display(df)"
   ]
  },
  {
   "cell_type": "markdown",
   "metadata": {},
   "source": [
    "### import and export excel "
   ]
  },
  {
   "cell_type": "code",
   "execution_count": 3,
   "metadata": {},
   "outputs": [],
   "source": [
    "excelname= \"ma\"\n",
    "sheetname = \"10ma\"\n",
    "\n",
    "wb = openpyxl.load_workbook(str(excelname)+\".xlsx\")\n",
    "ws = wb[str(sheetname)]\n",
    "\n",
    "dataset = []\n",
    "\n",
    "i = 1\n",
    "while(ws.cell(row=i, column=1).value!=None):\n",
    "    row = []\n",
    "    j = 1\n",
    "    while(ws.cell(row=i, column=j).value!=None):\n",
    "        row.append(ws.cell(row=i, column=j).value)\n",
    "        j = j +1\n",
    "    dataset.append(row)\n",
    "    i = i + 1"
   ]
  },
  {
   "cell_type": "code",
   "execution_count": 4,
   "metadata": {},
   "outputs": [],
   "source": [
    "trade =[[0 for x in range(9)] for y in range(len(dataset))]\n",
    "trade[0][0] = \"date\"\n",
    "trade[0][1] = \"buy\"\n",
    "trade[0][2] = \"hold\"\n",
    "trade[0][3] = \"sell\"\n",
    "trade[0][4] = \"number\"\n",
    "trade[0][5] = \"value\"\n",
    "trade[0][6] = \"period_return\"\n",
    "trade[0][7] = \"closeprice\"\n",
    "trade[0][8] = \"10ma\""
   ]
  },
  {
   "cell_type": "code",
   "execution_count": 5,
   "metadata": {},
   "outputs": [],
   "source": [
    "for i in range(1, len(trade)):\n",
    "    trade[i][0] = dataset[i][0]\n",
    "    trade[i][7] = float(dataset[i][7])\n",
    "    \n",
    "for i in range(10, len(trade)):\n",
    "    temp = 0\n",
    "    for j in range(0, 10):\n",
    "        temp = temp + trade[i-j][7]\n",
    "    trade[i][8] = temp / 10"
   ]
  },
  {
   "cell_type": "code",
   "execution_count": 6,
   "metadata": {},
   "outputs": [],
   "source": [
    "for i in range(10, len(trade)):\n",
    "    if(trade[i][7] > trade[i][8])and(trade[i-1][2]==0):\n",
    "        trade[i][1] = 1\n",
    "        trade[i][2] = 1\n",
    "        trade[i][3] = 0\n",
    "    elif(trade[i][7] < trade[i][8])and(trade[i-1][2]==1):\n",
    "        trade[i][1] = 0\n",
    "        trade[i][2] = 0\n",
    "        trade[i][3] = 1\n",
    "    elif(trade[i-1][2]>0):\n",
    "        trade[i][1] = 0\n",
    "        trade[i][2] = 1\n",
    "        trade[i][3] = 0"
   ]
  },
  {
   "cell_type": "code",
   "execution_count": 7,
   "metadata": {},
   "outputs": [],
   "source": [
    "initial = 10000\n",
    "for i in range(10, len(trade)):\n",
    "    if(trade[i][1] == 1)and(trade[i][2]==1)and(trade[i][3] == 0):\n",
    "        trade[i][4] = initial/trade[i][7]\n",
    "        trade[i][5] = trade[i][4] * trade[i][7]\n",
    "        trade[i][6] = round((trade[i][4] * trade[i][7] - initial)/initial, 4)\n",
    "    elif(trade[i][1] == 0)and(trade[i][2]==0)and(trade[i][3] == 1):\n",
    "        trade[i][4] = 0\n",
    "        trade[i][5] = trade[i-1][4] * trade[i][7]\n",
    "        trade[i][6] = round((trade[i-1][4] * trade[i][7] - initial)/initial, 4)\n",
    "    elif(trade[i][1] == 0)and(trade[i][2]==1)and(trade[i][3] == 0):\n",
    "        trade[i][4] = trade[i-1][4]\n",
    "        trade[i][5] = trade[i][4] * trade[i][7]\n",
    "        trade[i][6] = round((trade[i][4] * trade[i][7] - initial)/initial, 4)"
   ]
  },
  {
   "cell_type": "code",
   "execution_count": 8,
   "metadata": {},
   "outputs": [],
   "source": [
    "for i in range(0, len(trade)):\n",
    "    for j in range(0, len(trade[1])):\n",
    "        ws.cell(row=i+1, column=j+1).value= trade[i][j]\n",
    "wb.save('ma.xlsx')"
   ]
  },
  {
   "cell_type": "code",
   "execution_count": null,
   "metadata": {},
   "outputs": [],
   "source": []
  }
 ],
 "metadata": {
  "kernelspec": {
   "display_name": "Python 3",
   "language": "python",
   "name": "python3"
  },
  "language_info": {
   "codemirror_mode": {
    "name": "ipython",
    "version": 3
   },
   "file_extension": ".py",
   "mimetype": "text/x-python",
   "name": "python",
   "nbconvert_exporter": "python",
   "pygments_lexer": "ipython3",
   "version": "3.6.5"
  }
 },
 "nbformat": 4,
 "nbformat_minor": 2
}
