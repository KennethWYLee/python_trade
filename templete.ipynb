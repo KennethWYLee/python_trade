{
 "cells": [
  {
   "cell_type": "code",
   "execution_count": 1,
   "metadata": {},
   "outputs": [],
   "source": [
    "import pandas as pd\n",
    "import datetime\n",
    "\n",
    "from sklearn.model_selection import train_test_split\n",
    "\n",
    "from sklearn.linear_model import LogisticRegression\n",
    "from sklearn import svm\n",
    "from sklearn.ensemble import RandomForestClassifier\n",
    "\n",
    "from collections import Counter\n",
    "\n",
    "from sklearn.metrics import accuracy_score\n",
    "from sklearn.metrics import recall_score\n",
    "from sklearn.metrics import precision_score\n",
    "from sklearn.metrics import f1_score\n",
    "from sklearn import metrics\n",
    "import warnings\n",
    "warnings.filterwarnings('ignore')"
   ]
  },
  {
   "cell_type": "code",
   "execution_count": 2,
   "metadata": {},
   "outputs": [],
   "source": [
    "input_price = pd.read_excel(\"daily_trading_info_train.xlsx\", sheet_name = None)"
   ]
  },
  {
   "cell_type": "code",
   "execution_count": 3,
   "metadata": {},
   "outputs": [],
   "source": [
    "stock_index = []\n",
    "stock_index = list(input_price.keys())[0:]"
   ]
  },
  {
   "cell_type": "code",
   "execution_count": 4,
   "metadata": {},
   "outputs": [],
   "source": [
    "results = pd.read_excel(\"strategy_results_train.xlsx\", sheet_name = \"strategy_results_train\")"
   ]
  },
  {
   "cell_type": "code",
   "execution_count": 5,
   "metadata": {},
   "outputs": [],
   "source": [
    "import copy"
   ]
  },
  {
   "cell_type": "code",
   "execution_count": 6,
   "metadata": {},
   "outputs": [],
   "source": [
    "dataset = copy.deepcopy(results)"
   ]
  },
  {
   "cell_type": "markdown",
   "metadata": {},
   "source": [
    "##### START: Caculating the five-day average close price of SHSE.600085 at 2015-01-31"
   ]
  },
  {
   "cell_type": "code",
   "execution_count": 7,
   "metadata": {},
   "outputs": [],
   "source": [
    "def ma(input_price, trade_company, trade_date_datetime, ma_length):\n",
    "    df = input_price[trade_company]\n",
    "    date_index = 0\n",
    "    for i in range(0, df.shape[0]):\n",
    "        if(df.loc[i][1] >= trade_date_datetime):\n",
    "#             print(i, df.iloc[i][1])\n",
    "            date_index = i\n",
    "            break\n",
    "    ma = 0\n",
    "    ma_length = 5\n",
    "    for reverse in range(0, ma_length):\n",
    "        ma = ma + df.iloc[date_index-reverse][5]\n",
    "    ma = ma/ ma_length\n",
    "    return ma"
   ]
  },
  {
   "cell_type": "code",
   "execution_count": 8,
   "metadata": {},
   "outputs": [
    {
     "name": "stdout",
     "output_type": "stream",
     "text": [
      "0 2020-05-18 15:47:54.546590\n",
      "1000 2020-05-18 15:49:48.740233\n",
      "2000 2020-05-18 15:51:38.914569\n",
      "3000 2020-05-18 15:53:31.990190\n",
      "4000 2020-05-18 15:55:25.862786\n",
      "5000 2020-05-18 15:57:13.862729\n",
      "6000 2020-05-18 15:59:11.327598\n",
      "7000 2020-05-18 16:00:58.443150\n",
      "8000 2020-05-18 16:02:51.254727\n",
      "9000 2020-05-18 16:04:44.777044\n",
      "10000 2020-05-18 16:06:30.507336\n",
      "11000 2020-05-18 16:08:12.824794\n",
      "12000 2020-05-18 16:10:08.496567\n",
      "13000 2020-05-18 16:12:04.104490\n",
      "14000 2020-05-18 16:14:03.432399\n",
      "15000 2020-05-18 16:16:00.129372\n",
      "16000 2020-05-18 16:17:58.030345\n",
      "17000 2020-05-18 16:19:54.840908\n",
      "18000 2020-05-18 16:21:42.991056\n",
      "19000 2020-05-18 16:23:39.477169\n",
      "20000 2020-05-18 16:25:28.385955\n",
      "21000 2020-05-18 16:27:22.457250\n",
      "22000 2020-05-18 16:29:11.838519\n",
      "23000 2020-05-18 16:31:01.798866\n",
      "24000 2020-05-18 16:32:56.323571\n",
      "25000 2020-05-18 16:34:42.410395\n",
      "26000 2020-05-18 16:36:34.087643\n",
      "27000 2020-05-18 16:38:16.100777\n",
      "28000 2020-05-18 16:40:13.046081\n",
      "29000 2020-05-18 16:42:04.619300\n",
      "30000 2020-05-18 16:43:54.443656\n",
      "31000 2020-05-18 16:45:25.274626\n"
     ]
    }
   ],
   "source": [
    "temp = []\n",
    "for i in range(0, dataset.shape[0]):\n",
    "    if(i%1000==0):\n",
    "        print(i, datetime.datetime.now())\n",
    "    trade_company = dataset.iloc[i][0].split(\"_\")[0]\n",
    "    trade_date    = dataset.iloc[i][0].split(\"_\")[1]\n",
    "    trade_date_datetime = datetime.date(int(trade_date[:4]), int(trade_date[4:]), 1) - datetime.timedelta(days=1)\n",
    "    temp.append(ma(input_price, trade_company, trade_date_datetime, ma_length = 5))\n",
    "#     print(i, trade_company, trade_date, trade_date_datetime)"
   ]
  },
  {
   "cell_type": "code",
   "execution_count": 9,
   "metadata": {},
   "outputs": [],
   "source": [
    "pd.DataFrame(temp, columns=[\"ma\"]).head()\n",
    "temp = pd.DataFrame(temp, columns=[\"ma\"])"
   ]
  },
  {
   "cell_type": "code",
   "execution_count": 10,
   "metadata": {},
   "outputs": [
    {
     "data": {
      "text/html": [
       "<div>\n",
       "<style scoped>\n",
       "    .dataframe tbody tr th:only-of-type {\n",
       "        vertical-align: middle;\n",
       "    }\n",
       "\n",
       "    .dataframe tbody tr th {\n",
       "        vertical-align: top;\n",
       "    }\n",
       "\n",
       "    .dataframe thead th {\n",
       "        text-align: right;\n",
       "    }\n",
       "</style>\n",
       "<table border=\"1\" class=\"dataframe\">\n",
       "  <thead>\n",
       "    <tr style=\"text-align: right;\">\n",
       "      <th></th>\n",
       "      <th>ma</th>\n",
       "    </tr>\n",
       "  </thead>\n",
       "  <tbody>\n",
       "    <tr>\n",
       "      <th>0</th>\n",
       "      <td>21.548000</td>\n",
       "    </tr>\n",
       "    <tr>\n",
       "      <th>1</th>\n",
       "      <td>22.910000</td>\n",
       "    </tr>\n",
       "    <tr>\n",
       "      <th>2</th>\n",
       "      <td>22.492000</td>\n",
       "    </tr>\n",
       "    <tr>\n",
       "      <th>3</th>\n",
       "      <td>26.336000</td>\n",
       "    </tr>\n",
       "    <tr>\n",
       "      <th>4</th>\n",
       "      <td>32.718000</td>\n",
       "    </tr>\n",
       "    <tr>\n",
       "      <th>...</th>\n",
       "      <td>...</td>\n",
       "    </tr>\n",
       "    <tr>\n",
       "      <th>31942</th>\n",
       "      <td>58.034000</td>\n",
       "    </tr>\n",
       "    <tr>\n",
       "      <th>31943</th>\n",
       "      <td>55.264000</td>\n",
       "    </tr>\n",
       "    <tr>\n",
       "      <th>31944</th>\n",
       "      <td>55.188000</td>\n",
       "    </tr>\n",
       "    <tr>\n",
       "      <th>31945</th>\n",
       "      <td>46.204000</td>\n",
       "    </tr>\n",
       "    <tr>\n",
       "      <th>31946</th>\n",
       "      <td>48.782001</td>\n",
       "    </tr>\n",
       "  </tbody>\n",
       "</table>\n",
       "<p>31947 rows × 1 columns</p>\n",
       "</div>"
      ],
      "text/plain": [
       "              ma\n",
       "0      21.548000\n",
       "1      22.910000\n",
       "2      22.492000\n",
       "3      26.336000\n",
       "4      32.718000\n",
       "...          ...\n",
       "31942  58.034000\n",
       "31943  55.264000\n",
       "31944  55.188000\n",
       "31945  46.204000\n",
       "31946  48.782001\n",
       "\n",
       "[31947 rows x 1 columns]"
      ]
     },
     "execution_count": 10,
     "metadata": {},
     "output_type": "execute_result"
    }
   ],
   "source": [
    "temp"
   ]
  },
  {
   "cell_type": "code",
   "execution_count": 11,
   "metadata": {},
   "outputs": [
    {
     "data": {
      "text/plain": [
       "(31947, 2)"
      ]
     },
     "execution_count": 11,
     "metadata": {},
     "output_type": "execute_result"
    }
   ],
   "source": [
    "dataset.shape"
   ]
  },
  {
   "cell_type": "code",
   "execution_count": 12,
   "metadata": {},
   "outputs": [
    {
     "data": {
      "text/html": [
       "<div>\n",
       "<style scoped>\n",
       "    .dataframe tbody tr th:only-of-type {\n",
       "        vertical-align: middle;\n",
       "    }\n",
       "\n",
       "    .dataframe tbody tr th {\n",
       "        vertical-align: top;\n",
       "    }\n",
       "\n",
       "    .dataframe thead th {\n",
       "        text-align: right;\n",
       "    }\n",
       "</style>\n",
       "<table border=\"1\" class=\"dataframe\">\n",
       "  <thead>\n",
       "    <tr style=\"text-align: right;\">\n",
       "      <th></th>\n",
       "      <th>id</th>\n",
       "      <th>label</th>\n",
       "      <th>ma</th>\n",
       "    </tr>\n",
       "  </thead>\n",
       "  <tbody>\n",
       "    <tr>\n",
       "      <th>0</th>\n",
       "      <td>SHSE.600085_201501</td>\n",
       "      <td>0</td>\n",
       "      <td>21.548</td>\n",
       "    </tr>\n",
       "    <tr>\n",
       "      <th>1</th>\n",
       "      <td>SHSE.600085_201502</td>\n",
       "      <td>1</td>\n",
       "      <td>22.910</td>\n",
       "    </tr>\n",
       "    <tr>\n",
       "      <th>2</th>\n",
       "      <td>SHSE.600085_201503</td>\n",
       "      <td>1</td>\n",
       "      <td>22.492</td>\n",
       "    </tr>\n",
       "    <tr>\n",
       "      <th>3</th>\n",
       "      <td>SHSE.600085_201504</td>\n",
       "      <td>1</td>\n",
       "      <td>26.336</td>\n",
       "    </tr>\n",
       "    <tr>\n",
       "      <th>4</th>\n",
       "      <td>SHSE.600085_201505</td>\n",
       "      <td>1</td>\n",
       "      <td>32.718</td>\n",
       "    </tr>\n",
       "  </tbody>\n",
       "</table>\n",
       "</div>"
      ],
      "text/plain": [
       "                   id  label      ma\n",
       "0  SHSE.600085_201501      0  21.548\n",
       "1  SHSE.600085_201502      1  22.910\n",
       "2  SHSE.600085_201503      1  22.492\n",
       "3  SHSE.600085_201504      1  26.336\n",
       "4  SHSE.600085_201505      1  32.718"
      ]
     },
     "execution_count": 12,
     "metadata": {},
     "output_type": "execute_result"
    }
   ],
   "source": [
    "result = pd.concat([dataset, pd.DataFrame(temp).reindex(dataset.index)], axis=1)\n",
    "result.head()"
   ]
  },
  {
   "cell_type": "code",
   "execution_count": 13,
   "metadata": {},
   "outputs": [],
   "source": [
    "result.to_excel(\"train_output.xlsx\")  "
   ]
  },
  {
   "cell_type": "code",
   "execution_count": 14,
   "metadata": {},
   "outputs": [],
   "source": [
    "y = pd.DataFrame(result[\"label\"])\n",
    "X = pd.DataFrame(result[\"ma\"])"
   ]
  },
  {
   "cell_type": "code",
   "execution_count": 15,
   "metadata": {},
   "outputs": [],
   "source": [
    "X_train, X_valid, y_train, y_valid = train_test_split(X, y, test_size = 0.2, random_state = 0)"
   ]
  },
  {
   "cell_type": "code",
   "execution_count": 25,
   "metadata": {},
   "outputs": [
    {
     "data": {
      "text/plain": [
       "LogisticRegression(C=1.0, class_weight=None, dual=False, fit_intercept=True,\n",
       "                   intercept_scaling=1, l1_ratio=None, max_iter=100,\n",
       "                   multi_class='auto', n_jobs=None, penalty='l2',\n",
       "                   random_state=None, solver='lbfgs', tol=0.0001, verbose=0,\n",
       "                   warm_start=False)"
      ]
     },
     "execution_count": 25,
     "metadata": {},
     "output_type": "execute_result"
    }
   ],
   "source": [
    "clf = LogisticRegression()\n",
    "clf.fit(X_train, y_train)"
   ]
  },
  {
   "cell_type": "code",
   "execution_count": 26,
   "metadata": {},
   "outputs": [
    {
     "name": "stdout",
     "output_type": "stream",
     "text": [
      "train f1:  0.06548921537980619\n",
      "valid f1:  0.07668711656441718\n",
      "train accuracy:  0.5321047071252495\n",
      "valid accuracy:  0.5289514866979655\n",
      "train recall_score:  0.03504809703053116\n",
      "valid recall_score:  0.04101049868766404\n",
      "train precision_score:  0.4982164090368609\n",
      "valid precision_score:  0.589622641509434\n",
      "train auc:  0.5020116238718307\n",
      "valid auc:  0.507489091354604\n"
     ]
    }
   ],
   "source": [
    "print(\"train f1: \", f1_score(y_train, clf.predict(X_train)))\n",
    "print(\"valid f1: \", f1_score(y_valid, clf.predict(X_valid)))\n",
    "print(\"train accuracy: \", accuracy_score(y_train, clf.predict(X_train)))\n",
    "print(\"valid accuracy: \", accuracy_score(y_valid, clf.predict(X_valid)))\n",
    "print(\"train recall_score: \", recall_score(y_train, clf.predict(X_train)))\n",
    "print(\"valid recall_score: \", recall_score(y_valid, clf.predict(X_valid)))\n",
    "print(\"train precision_score: \", precision_score(y_train, clf.predict(X_train)))\n",
    "print(\"valid precision_score: \", precision_score(y_valid, clf.predict(X_valid)))\n",
    "fpr, tpr, thresholds = metrics.roc_curve(y_train.to_numpy().flatten(), clf.predict(X_train).flatten(), pos_label=1)\n",
    "print(\"train auc: \", metrics.auc(fpr, tpr))\n",
    "fpr, tpr, thresholds = metrics.roc_curve(y_valid.to_numpy().flatten(), clf.predict(X_valid).flatten(), pos_label=1)\n",
    "print(\"valid auc: \", metrics.auc(fpr, tpr))"
   ]
  },
  {
   "cell_type": "markdown",
   "metadata": {},
   "source": [
    "## apply all the train data for model fitting"
   ]
  },
  {
   "cell_type": "code",
   "execution_count": 27,
   "metadata": {},
   "outputs": [
    {
     "data": {
      "text/plain": [
       "LogisticRegression(C=1.0, class_weight=None, dual=False, fit_intercept=True,\n",
       "                   intercept_scaling=1, l1_ratio=None, max_iter=100,\n",
       "                   multi_class='auto', n_jobs=None, penalty='l2',\n",
       "                   random_state=None, solver='lbfgs', tol=0.0001, verbose=0,\n",
       "                   warm_start=False)"
      ]
     },
     "execution_count": 27,
     "metadata": {},
     "output_type": "execute_result"
    }
   ],
   "source": [
    "y_train = pd.DataFrame(result[\"label\"])\n",
    "X_train = pd.DataFrame(result[\"ma\"])\n",
    "clf = LogisticRegression()\n",
    "clf.fit(X_train, y_train)"
   ]
  },
  {
   "cell_type": "markdown",
   "metadata": {},
   "source": [
    "#### 開始處理 test set"
   ]
  },
  {
   "cell_type": "code",
   "execution_count": 18,
   "metadata": {},
   "outputs": [],
   "source": [
    "test_input_price = pd.read_excel(\"daily_trading_info_test.xlsx\", sheet_name = None)"
   ]
  },
  {
   "cell_type": "code",
   "execution_count": 19,
   "metadata": {},
   "outputs": [],
   "source": [
    "test_stock_index = []\n",
    "test_stock_index = list(test_input_price.keys())[0:]"
   ]
  },
  {
   "cell_type": "code",
   "execution_count": 34,
   "metadata": {},
   "outputs": [],
   "source": [
    "test_results = pd.read_csv(\"sampleSubmission.csv\")"
   ]
  },
  {
   "cell_type": "code",
   "execution_count": 35,
   "metadata": {},
   "outputs": [
    {
     "data": {
      "text/html": [
       "<div>\n",
       "<style scoped>\n",
       "    .dataframe tbody tr th:only-of-type {\n",
       "        vertical-align: middle;\n",
       "    }\n",
       "\n",
       "    .dataframe tbody tr th {\n",
       "        vertical-align: top;\n",
       "    }\n",
       "\n",
       "    .dataframe thead th {\n",
       "        text-align: right;\n",
       "    }\n",
       "</style>\n",
       "<table border=\"1\" class=\"dataframe\">\n",
       "  <thead>\n",
       "    <tr style=\"text-align: right;\">\n",
       "      <th></th>\n",
       "      <th>id</th>\n",
       "      <th>label</th>\n",
       "    </tr>\n",
       "  </thead>\n",
       "  <tbody>\n",
       "    <tr>\n",
       "      <th>0</th>\n",
       "      <td>SHSE.600085_201901</td>\n",
       "      <td>0</td>\n",
       "    </tr>\n",
       "    <tr>\n",
       "      <th>1</th>\n",
       "      <td>SHSE.600085_201902</td>\n",
       "      <td>0</td>\n",
       "    </tr>\n",
       "    <tr>\n",
       "      <th>2</th>\n",
       "      <td>SHSE.600085_201903</td>\n",
       "      <td>0</td>\n",
       "    </tr>\n",
       "    <tr>\n",
       "      <th>3</th>\n",
       "      <td>SHSE.600085_201904</td>\n",
       "      <td>0</td>\n",
       "    </tr>\n",
       "    <tr>\n",
       "      <th>4</th>\n",
       "      <td>SHSE.600085_201905</td>\n",
       "      <td>0</td>\n",
       "    </tr>\n",
       "  </tbody>\n",
       "</table>\n",
       "</div>"
      ],
      "text/plain": [
       "                   id  label\n",
       "0  SHSE.600085_201901      0\n",
       "1  SHSE.600085_201902      0\n",
       "2  SHSE.600085_201903      0\n",
       "3  SHSE.600085_201904      0\n",
       "4  SHSE.600085_201905      0"
      ]
     },
     "execution_count": 35,
     "metadata": {},
     "output_type": "execute_result"
    }
   ],
   "source": [
    "test_results.head()"
   ]
  },
  {
   "cell_type": "code",
   "execution_count": 36,
   "metadata": {},
   "outputs": [],
   "source": [
    "import copy"
   ]
  },
  {
   "cell_type": "code",
   "execution_count": 40,
   "metadata": {},
   "outputs": [],
   "source": [
    "test_dataset = copy.deepcopy(test_results)"
   ]
  },
  {
   "cell_type": "code",
   "execution_count": null,
   "metadata": {},
   "outputs": [
    {
     "name": "stdout",
     "output_type": "stream",
     "text": [
      "0 2020-05-18 17:09:20.662834\n",
      "1000 2020-05-18 17:09:44.955338\n",
      "2000 2020-05-18 17:10:08.896516\n",
      "3000 2020-05-18 17:10:33.239890\n",
      "4000 2020-05-18 17:10:57.208650\n",
      "5000 2020-05-18 17:11:21.492402\n",
      "6000 2020-05-18 17:11:45.357077\n",
      "7000 2020-05-18 17:12:09.865811\n",
      "8000 2020-05-18 17:12:33.811249\n"
     ]
    }
   ],
   "source": [
    "temp = []\n",
    "for i in range(0, test_dataset.shape[0]):\n",
    "    if(i%1000==0):\n",
    "        print(i, datetime.datetime.now())\n",
    "    trade_company = test_dataset.iloc[i][0].split(\"_\")[0]\n",
    "    trade_date    = test_dataset.iloc[i][0].split(\"_\")[1]\n",
    "    trade_date_datetime = datetime.date(int(trade_date[:4]), int(trade_date[4:]), 1) - datetime.timedelta(days=1)\n",
    "    temp.append(ma(test_input_price, trade_company, trade_date_datetime, ma_length = 5))\n",
    "#     print(i, trade_company, trade_date)"
   ]
  },
  {
   "cell_type": "code",
   "execution_count": 38,
   "metadata": {},
   "outputs": [
    {
     "data": {
      "text/plain": [
       "11363"
      ]
     },
     "execution_count": 38,
     "metadata": {},
     "output_type": "execute_result"
    }
   ],
   "source": [
    "len(temp)"
   ]
  },
  {
   "cell_type": "code",
   "execution_count": 39,
   "metadata": {},
   "outputs": [
    {
     "data": {
      "text/plain": [
       "11363"
      ]
     },
     "execution_count": 39,
     "metadata": {},
     "output_type": "execute_result"
    }
   ],
   "source": [
    "test_dataset.shape[0]"
   ]
  },
  {
   "cell_type": "code",
   "execution_count": null,
   "metadata": {},
   "outputs": [],
   "source": []
  },
  {
   "cell_type": "code",
   "execution_count": 41,
   "metadata": {
    "scrolled": true
   },
   "outputs": [
    {
     "data": {
      "text/html": [
       "<div>\n",
       "<style scoped>\n",
       "    .dataframe tbody tr th:only-of-type {\n",
       "        vertical-align: middle;\n",
       "    }\n",
       "\n",
       "    .dataframe tbody tr th {\n",
       "        vertical-align: top;\n",
       "    }\n",
       "\n",
       "    .dataframe thead th {\n",
       "        text-align: right;\n",
       "    }\n",
       "</style>\n",
       "<table border=\"1\" class=\"dataframe\">\n",
       "  <thead>\n",
       "    <tr style=\"text-align: right;\">\n",
       "      <th></th>\n",
       "      <th>id</th>\n",
       "      <th>label</th>\n",
       "      <th>ma</th>\n",
       "    </tr>\n",
       "  </thead>\n",
       "  <tbody>\n",
       "    <tr>\n",
       "      <th>0</th>\n",
       "      <td>SHSE.600085_201901</td>\n",
       "      <td>0</td>\n",
       "      <td>25.552</td>\n",
       "    </tr>\n",
       "    <tr>\n",
       "      <th>1</th>\n",
       "      <td>SHSE.600085_201902</td>\n",
       "      <td>0</td>\n",
       "      <td>26.562</td>\n",
       "    </tr>\n",
       "    <tr>\n",
       "      <th>2</th>\n",
       "      <td>SHSE.600085_201903</td>\n",
       "      <td>0</td>\n",
       "      <td>29.076</td>\n",
       "    </tr>\n",
       "    <tr>\n",
       "      <th>3</th>\n",
       "      <td>SHSE.600085_201904</td>\n",
       "      <td>0</td>\n",
       "      <td>29.810</td>\n",
       "    </tr>\n",
       "    <tr>\n",
       "      <th>4</th>\n",
       "      <td>SHSE.600085_201905</td>\n",
       "      <td>0</td>\n",
       "      <td>31.326</td>\n",
       "    </tr>\n",
       "  </tbody>\n",
       "</table>\n",
       "</div>"
      ],
      "text/plain": [
       "                   id  label      ma\n",
       "0  SHSE.600085_201901      0  25.552\n",
       "1  SHSE.600085_201902      0  26.562\n",
       "2  SHSE.600085_201903      0  29.076\n",
       "3  SHSE.600085_201904      0  29.810\n",
       "4  SHSE.600085_201905      0  31.326"
      ]
     },
     "execution_count": 41,
     "metadata": {},
     "output_type": "execute_result"
    }
   ],
   "source": [
    "temp = pd.DataFrame(temp, columns=[\"ma\"])\n",
    "test_result = pd.concat([test_dataset, temp], axis=1)\n",
    "test_result.head()"
   ]
  },
  {
   "cell_type": "code",
   "execution_count": 42,
   "metadata": {},
   "outputs": [],
   "source": [
    "test_result.to_excel(\"test_output.xlsx\")  "
   ]
  },
  {
   "cell_type": "code",
   "execution_count": 43,
   "metadata": {},
   "outputs": [],
   "source": [
    "test_X = pd.DataFrame(test_result[\"ma\"])"
   ]
  },
  {
   "cell_type": "code",
   "execution_count": 44,
   "metadata": {},
   "outputs": [
    {
     "data": {
      "text/html": [
       "<div>\n",
       "<style scoped>\n",
       "    .dataframe tbody tr th:only-of-type {\n",
       "        vertical-align: middle;\n",
       "    }\n",
       "\n",
       "    .dataframe tbody tr th {\n",
       "        vertical-align: top;\n",
       "    }\n",
       "\n",
       "    .dataframe thead th {\n",
       "        text-align: right;\n",
       "    }\n",
       "</style>\n",
       "<table border=\"1\" class=\"dataframe\">\n",
       "  <thead>\n",
       "    <tr style=\"text-align: right;\">\n",
       "      <th></th>\n",
       "      <th>ma</th>\n",
       "    </tr>\n",
       "  </thead>\n",
       "  <tbody>\n",
       "    <tr>\n",
       "      <th>0</th>\n",
       "      <td>25.552</td>\n",
       "    </tr>\n",
       "    <tr>\n",
       "      <th>1</th>\n",
       "      <td>26.562</td>\n",
       "    </tr>\n",
       "    <tr>\n",
       "      <th>2</th>\n",
       "      <td>29.076</td>\n",
       "    </tr>\n",
       "    <tr>\n",
       "      <th>3</th>\n",
       "      <td>29.810</td>\n",
       "    </tr>\n",
       "    <tr>\n",
       "      <th>4</th>\n",
       "      <td>31.326</td>\n",
       "    </tr>\n",
       "    <tr>\n",
       "      <th>5</th>\n",
       "      <td>29.536</td>\n",
       "    </tr>\n",
       "    <tr>\n",
       "      <th>6</th>\n",
       "      <td>29.036</td>\n",
       "    </tr>\n",
       "    <tr>\n",
       "      <th>7</th>\n",
       "      <td>28.268</td>\n",
       "    </tr>\n",
       "    <tr>\n",
       "      <th>8</th>\n",
       "      <td>28.168</td>\n",
       "    </tr>\n",
       "    <tr>\n",
       "      <th>9</th>\n",
       "      <td>27.152</td>\n",
       "    </tr>\n",
       "  </tbody>\n",
       "</table>\n",
       "</div>"
      ],
      "text/plain": [
       "       ma\n",
       "0  25.552\n",
       "1  26.562\n",
       "2  29.076\n",
       "3  29.810\n",
       "4  31.326\n",
       "5  29.536\n",
       "6  29.036\n",
       "7  28.268\n",
       "8  28.168\n",
       "9  27.152"
      ]
     },
     "execution_count": 44,
     "metadata": {},
     "output_type": "execute_result"
    }
   ],
   "source": [
    "test_X.head(10)"
   ]
  },
  {
   "cell_type": "code",
   "execution_count": 45,
   "metadata": {},
   "outputs": [],
   "source": [
    "pd.DataFrame(clf.predict(test_X)).to_excel(\"test_output.xlsx\")  "
   ]
  },
  {
   "cell_type": "markdown",
   "metadata": {},
   "source": [
    "##### END: Caculating the five-day average close price of SHSE.600085 at 2015-01-31"
   ]
  }
 ],
 "metadata": {
  "kernelspec": {
   "display_name": "Python 3",
   "language": "python",
   "name": "python3"
  },
  "language_info": {
   "codemirror_mode": {
    "name": "ipython",
    "version": 3
   },
   "file_extension": ".py",
   "mimetype": "text/x-python",
   "name": "python",
   "nbconvert_exporter": "python",
   "pygments_lexer": "ipython3",
   "version": "3.6.10"
  }
 },
 "nbformat": 4,
 "nbformat_minor": 4
}
